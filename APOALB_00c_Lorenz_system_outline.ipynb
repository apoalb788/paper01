{
 "cells": [
  {
   "cell_type": "markdown",
   "id": "556b81cf",
   "metadata": {},
   "source": [
    "# Lorenz system outine\n",
    "\n",
    "### ( with $\\sigma = 10, \\beta = \\frac{8}{3}$ )\n"
   ]
  },
  {
   "cell_type": "code",
   "execution_count": 1,
   "id": "c857013c",
   "metadata": {},
   "outputs": [],
   "source": [
    "from PIL import Image, ImageDraw, ImageFont\n",
    "from matplotlib import font_manager\n",
    "import numpy    as np\n",
    "#import networkx as nx\n",
    "import matplotlib.pyplot as plt\n",
    "import math     as math\n",
    "import time     as time\n",
    "\n",
    "#######################################################################\n",
    "# E N V I R O N M E N T   S E T   U P\n",
    "#######################################################################\n",
    "#---------------------------------------------------------------------#\n",
    "# To compute elapsed time\n",
    "#---------------------------------------------------------------------#\n",
    "start_time = time.time()"
   ]
  },
  {
   "cell_type": "code",
   "execution_count": 2,
   "id": "b066512f",
   "metadata": {},
   "outputs": [],
   "source": [
    "im = Image.new('RGB',(805, 160),'white')\n",
    "draw = ImageDraw.Draw(im)\n"
   ]
  },
  {
   "cell_type": "code",
   "execution_count": 3,
   "id": "fbb2cfd9",
   "metadata": {
    "scrolled": true
   },
   "outputs": [],
   "source": [
    "# comment these lines when development is over\n",
    "#draw.rectangle((0, 0, 804, 159), fill='white', outline='black')\n",
    "#display(im)"
   ]
  },
  {
   "cell_type": "code",
   "execution_count": 4,
   "id": "4a6b8445",
   "metadata": {},
   "outputs": [
    {
     "data": {
      "image/png": "[encoded data removed]",
      "text/plain": [
       "<PIL.Image.Image image mode=RGB size=805x160>"
      ]
     },
     "metadata": {},
     "output_type": "display_data"
    }
   ],
   "source": [
    "dx,dy = 0,-15 # relocation coords.\n",
    "\n",
    "x,y,a,b = 20+dx,100+dy,750,0\n",
    "draw.line((x,y,x+a,y+b),width=3,fill='black')\n",
    "x,y,a,b = 770+dx,100+dy,-10,5\n",
    "draw.line((x,y,x+a,y+b),width=3,fill='black')\n",
    "draw.line((x,y,x+a,y-b),width=3,fill='black')\n",
    "\n",
    "\n",
    "x,y,a,b = 170+dx,70+dy,595,0\n",
    "draw.line((x,y,x+a,y+b),width=4,fill='black')\n",
    "\n",
    "\n",
    "font_m = font_manager.FontProperties(family='Bahnschrift', weight='regular')\n",
    "file = font_manager.findfont(font_m)\n",
    "font = ImageFont.truetype(file, 20)\n",
    "\n",
    "mk = np.array([  0,  1,     2,    5.2,    6.8,    10])\n",
    "tx = np.array([\"0\",\"1\",\"24.7\",\"148.4\",\"166.1\",\"233.5\"])\n",
    "px = np.array([  4,  2,     10,     18,      18,      18])\n",
    "\n",
    "for i in range(len(mk)):\n",
    "    xa,ya,a,b = 20+dx+mk[i]*60, 101+dy, 0, 7\n",
    "    draw.line((xa,ya,xa+a,ya+b),width=2,fill='black')\n",
    "    #    \n",
    "    text = tx[i]\n",
    "    draw.text((20+dx+mk[i]*60-px[i], 120+dy), text, 'black', font=font, align =\"center\")\n",
    "\n",
    "x,y,a,b = 21+dx+mk[2]*60,100+dy,0,-40\n",
    "draw.line((x,y,x+a,y+b),width=2,fill='purple')\n",
    "x,y,a,b = 20+dx+mk[2]*60,60+dy,1.9*60,0\n",
    "draw.line((x,y,x+a,y+b),width=2,fill='purple')\n",
    "x,y,a,b = 20+dx+(mk[2]+1.9)*60,60+dy,1.4*60,40\n",
    "draw.line((x,y,x+a,y+b),width=2,fill='purple')\n",
    "\n",
    "x,y,a,b = 21+dx+mk[4]*60,60+dy,75,75\n",
    "draw.arc([x,y,x+a,y+b],start = 180, end=270, fill='purple')\n",
    "\n",
    "x,y,a,b = 55+dx+mk[4]*60,60+dy,1.29*60,0\n",
    "draw.line((x,y,x+a,y+b),width=2,fill='purple')\n",
    "x,y,a,b = 20+dx+(mk[4]+1.9)*60,60+dy,1.4*60,40\n",
    "draw.line((x,y,x+a,y+b),width=2,fill='purple')\n",
    "\n",
    "# dashed lines\n",
    "for i in range(0,10,4):\n",
    "    x,y,a,b = 20+dx+(mk[2]+1.9)*60,60+dy+i*4,0,4\n",
    "    draw.line((x,y,x+a,y+b),width=2,fill='purple')\n",
    "for i in range(0,10,4):\n",
    "    x,y,a,b = 20+dx+(mk[4]+1.9)*60,60+dy+i*4,0,4\n",
    "    draw.line((x,y,x+a,y+b),width=2,fill='purple')\n",
    "\n",
    "\n",
    "font_m = font_manager.FontProperties(family='Bahnschrift', weight='regular')\n",
    "file = font_manager.findfont(font_m)\n",
    "font = ImageFont.truetype(file, 35)\n",
    "\n",
    "text = \"L\"\n",
    "draw.text((20+dx+2.5*60, 20+dy), text, 'black', font=font, align =\"center\")\n",
    "\n",
    "text = \"C\"\n",
    "draw.text((20+dx+5.7*60, 33+dy), text, 'black', font=font, align =\"center\")\n",
    "\n",
    "text = \"L\"\n",
    "draw.text((20+dx+7.7*60, 20+dy), text, 'black', font=font, align =\"center\")\n",
    "\n",
    "text = \"C\"\n",
    "draw.text((20+dx+11*60, 33+dy), text, 'black', font=font, align =\"center\")\n",
    "\n",
    "font_m = font_manager.FontProperties(family='Bahnschrift', weight='regular')\n",
    "file = font_manager.findfont(font_m)\n",
    "font = ImageFont.truetype(file, 18)\n",
    "\n",
    "text = \"1\"\n",
    "draw.text((39+dx+2.5*60, 35+dy), text, 'black', font=font, align =\"center\")\n",
    "\n",
    "text = \"1\"\n",
    "draw.text((39+dx+5.7*60, 48+dy), text, 'black', font=font, align =\"center\")\n",
    "\n",
    "text = \"2\"\n",
    "draw.text((39+dx+7.7*60, 35+dy), text, 'black', font=font, align =\"center\")\n",
    "\n",
    "text = \"2\"\n",
    "draw.text((39+dx+11*60, 48+dy), text, 'black', font=font, align =\"center\")\n",
    "\n",
    "\n",
    "font_m = font_manager.FontProperties(family='Bahnschrift', weight='regular')\n",
    "file = font_manager.findfont(font_m)\n",
    "font = ImageFont.truetype(file, 30)\n",
    "\n",
    "text = \"L   C\"\n",
    "draw.text((20+dx+4.2*60, 35+dy), text, 'black', font=font, align =\"center\")\n",
    "\n",
    "text = \"L   C\"\n",
    "draw.text((20+dx+9.2*60, 35+dy), text, 'black', font=font, align =\"center\")\n",
    "\n",
    "\n",
    "font_m = font_manager.FontProperties(family='Bahnschrift', weight='regular')\n",
    "file = font_manager.findfont(font_m)\n",
    "font = ImageFont.truetype(file, 16)\n",
    "\n",
    "text = \"1\"\n",
    "draw.text((38+dx+4.2*60, 50+dy), text, 'black', font=font, align =\"center\")\n",
    "draw.text((42+dx+4.8*60, 50+dy), text, 'black', font=font, align =\"center\")\n",
    "\n",
    "text = \"2\"\n",
    "draw.text((38+dx+9.2*60, 50+dy), text, 'black', font=font, align =\"center\")\n",
    "draw.text((42+dx+9.8*60, 50+dy), text, 'black', font=font, align =\"center\")\n",
    "\n",
    "font_size=22\n",
    "font_color = 'black'\n",
    "\n",
    "unicode_text = u\"\\u2192\" \n",
    "unicode_font = ImageFont.truetype(\"DejaVuSans.ttf\", font_size)\n",
    "draw.text ( (41+dx+4.2*60, 33+dy), unicode_text, font=unicode_font, fill=font_color )\n",
    "draw.text ( (41+dx+9.2*60, 33+dy), unicode_text, font=unicode_font, fill=font_color )\n",
    "\n",
    "font_size=25\n",
    "unicode_text = u\"\\u03c1\" \n",
    "unicode_font = ImageFont.truetype(\"DejaVuSans.ttf\", font_size)\n",
    "draw.text ( (20+dx+12*60, 110+dy), unicode_text, font=unicode_font, fill=font_color )\n",
    "\n",
    "draw.text ( (15+dx+2*60, 130+dy), unicode_text, font=unicode_font, fill=font_color )\n",
    "\n",
    "font_size=20\n",
    "unicode_text = \"t\" \n",
    "unicode_font = ImageFont.truetype(\"DejaVuSans.ttf\", font_size)\n",
    "draw.text ( (15+dx+2.15*60, 150+dy), unicode_text, font=unicode_font, fill=font_color )\n",
    "\n",
    "\n",
    "display(im)\n",
    "im.save('Lorenz_system_outline.png', quality=95)"
   ]
  },
  {
   "cell_type": "code",
   "execution_count": 5,
   "id": "1672b72b",
   "metadata": {},
   "outputs": [
    {
     "name": "stdout",
     "output_type": "stream",
     "text": [
      "\n",
      "Elapsed time 1.57e-01 s\n"
     ]
    }
   ],
   "source": [
    "#---------------------------------------------------------------------#---------------------------------------------------------------------#\n",
    "# Elapsed time\n",
    "#---------------------------------------------------------------------#\n",
    "print(f'\\nElapsed time {time.time() - start_time:6.2e} s')"
   ]
  },
  {
   "cell_type": "code",
   "execution_count": null,
   "id": "36ccc4b6",
   "metadata": {},
   "outputs": [],
   "source": []
  }
 ],
 "metadata": {
  "kernelspec": {
   "display_name": "Python 3 (ipykernel)",
   "language": "python",
   "name": "python3"
  },
  "language_info": {
   "codemirror_mode": {
    "name": "ipython",
    "version": 3
   },
   "file_extension": ".py",
   "mimetype": "text/x-python",
   "name": "python",
   "nbconvert_exporter": "python",
   "pygments_lexer": "ipython3",
   "version": "3.9.18"
  }
 },
 "nbformat": 4,
 "nbformat_minor": 5
}
